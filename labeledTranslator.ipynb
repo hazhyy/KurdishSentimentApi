{
 "cells": [
  {
   "cell_type": "code",
   "execution_count": 1,
   "metadata": {},
   "outputs": [],
   "source": [
    "import pandas as pd\n",
    "from mtranslate import translate\n",
    "from tqdm.notebook import tqdm"
   ]
  },
  {
   "cell_type": "code",
   "execution_count": 2,
   "metadata": {},
   "outputs": [],
   "source": [
    "df=pd.read_csv(\"./dataSet/Sentiment_Analysis.csv\")"
   ]
  },
  {
   "cell_type": "code",
   "execution_count": 3,
   "metadata": {},
   "outputs": [
    {
     "data": {
      "text/plain": [
       "(40000, 4)"
      ]
     },
     "execution_count": 3,
     "metadata": {},
     "output_type": "execute_result"
    }
   ],
   "source": [
    "df.shape"
   ]
  },
  {
   "cell_type": "code",
   "execution_count": 15,
   "metadata": {},
   "outputs": [
    {
     "name": "stdout",
     "output_type": "stream",
     "text": [
      "Layin n bed with a headache ughhhh...waitin on your call...\n"
     ]
    }
   ],
   "source": [
    "splitted=df.content[1].split()\n",
    "filtered=' '.join([word for word in splitted if not word.startswith('@')])\n",
    "print(filtered)\n",
    "\n",
    "  "
   ]
  },
  {
   "cell_type": "code",
   "execution_count": 16,
   "metadata": {},
   "outputs": [],
   "source": [
    "df['tweets']=df.content.apply(lambda x:' '.join([word for word in x.split() if not word.startswith('@')]))"
   ]
  },
  {
   "cell_type": "code",
   "execution_count": 19,
   "metadata": {},
   "outputs": [],
   "source": [
    "df.to_csv(\"./dataSet/tweets.csv\",index=False)"
   ]
  },
  {
   "cell_type": "markdown",
   "metadata": {},
   "source": [
    "### getting unrepeated sentiments"
   ]
  },
  {
   "cell_type": "code",
   "execution_count": 26,
   "metadata": {},
   "outputs": [],
   "source": [
    "sent={}\n",
    "for sentiment in df.sentiment.unique():\n",
    "    sent[sentiment]=translate(sentiment,'ckb')"
   ]
  },
  {
   "cell_type": "code",
   "execution_count": 27,
   "metadata": {},
   "outputs": [
    {
     "data": {
      "text/plain": [
       "{'empty': 'بەتاڵ',\n",
       " 'sadness': 'دڵتەنگی',\n",
       " 'enthusiasm': 'پەرۆشی',\n",
       " 'neutral': 'بێلایەن',\n",
       " 'worry': 'نیگەرانی',\n",
       " 'surprise': 'سوپرایس',\n",
       " 'love': 'خۆشەویستی',\n",
       " 'fun': 'خۆش',\n",
       " 'hate': 'ڕق',\n",
       " 'happiness': 'بەختەوەری',\n",
       " 'boredom': 'بێزاری',\n",
       " 'relief': 'حەسانەوە',\n",
       " 'anger': 'تووڕەیی'}"
      ]
     },
     "execution_count": 27,
     "metadata": {},
     "output_type": "execute_result"
    }
   ],
   "source": [
    "sent"
   ]
  },
  {
   "cell_type": "code",
   "execution_count": 39,
   "metadata": {},
   "outputs": [],
   "source": [
    "sentiments={'empty': 'بەتاڵ',\n",
    " 'sadness': 'دڵتەنگ',\n",
    " 'enthusiasm': 'پەرۆش',\n",
    " 'neutral': 'ئاسایی',\n",
    " 'worry': 'نیگەران',\n",
    " 'surprise': 'سوپرایز',\n",
    " 'love': 'خۆشەویستی',\n",
    " 'fun': 'خۆشی',\n",
    " 'hate': 'ڕق',\n",
    " 'happiness': 'بەختەوەر',\n",
    " 'boredom': 'بێزار',\n",
    " 'relief': 'ئارام',\n",
    " 'anger': 'تووڕە'}"
   ]
  },
  {
   "cell_type": "code",
   "execution_count": 40,
   "metadata": {},
   "outputs": [
    {
     "data": {
      "text/plain": [
       "'بەتاڵ'"
      ]
     },
     "execution_count": 40,
     "metadata": {},
     "output_type": "execute_result"
    }
   ],
   "source": [
    "df['kurdish_sentiments']=df.sentiment.apply(lambda x:sentiments[x])\n",
    "sentiments[\"empty\"]"
   ]
  },
  {
   "cell_type": "code",
   "execution_count": 41,
   "metadata": {},
   "outputs": [
    {
     "data": {
      "text/plain": [
       "0            بەتاڵ\n",
       "1           دڵتەنگ\n",
       "2           دڵتەنگ\n",
       "3            پەرۆش\n",
       "4           ئاسایی\n",
       "           ...    \n",
       "39995       ئاسایی\n",
       "39996    خۆشەویستی\n",
       "39997    خۆشەویستی\n",
       "39998     بەختەوەر\n",
       "39999    خۆشەویستی\n",
       "Name: kurdish_sentiments, Length: 40000, dtype: object"
      ]
     },
     "execution_count": 41,
     "metadata": {},
     "output_type": "execute_result"
    }
   ],
   "source": [
    "df['kurdish_sentiments']"
   ]
  },
  {
   "cell_type": "code",
   "execution_count": 44,
   "metadata": {},
   "outputs": [
    {
     "data": {
      "text/html": [
       "<div>\n",
       "<style scoped>\n",
       "    .dataframe tbody tr th:only-of-type {\n",
       "        vertical-align: middle;\n",
       "    }\n",
       "\n",
       "    .dataframe tbody tr th {\n",
       "        vertical-align: top;\n",
       "    }\n",
       "\n",
       "    .dataframe thead th {\n",
       "        text-align: right;\n",
       "    }\n",
       "</style>\n",
       "<table border=\"1\" class=\"dataframe\">\n",
       "  <thead>\n",
       "    <tr style=\"text-align: right;\">\n",
       "      <th></th>\n",
       "      <th>tweet_id</th>\n",
       "      <th>sentiment</th>\n",
       "      <th>author</th>\n",
       "      <th>content</th>\n",
       "      <th>tweets</th>\n",
       "      <th>kurdish_sentiments</th>\n",
       "    </tr>\n",
       "  </thead>\n",
       "  <tbody>\n",
       "    <tr>\n",
       "      <th>0</th>\n",
       "      <td>1956967341</td>\n",
       "      <td>empty</td>\n",
       "      <td>xoshayzers</td>\n",
       "      <td>@tiffanylue i know  i was listenin to bad habi...</td>\n",
       "      <td>i know i was listenin to bad habit earlier and...</td>\n",
       "      <td>بەتاڵ</td>\n",
       "    </tr>\n",
       "    <tr>\n",
       "      <th>1</th>\n",
       "      <td>1956967666</td>\n",
       "      <td>sadness</td>\n",
       "      <td>wannamama</td>\n",
       "      <td>Layin n bed with a headache  ughhhh...waitin o...</td>\n",
       "      <td>Layin n bed with a headache ughhhh...waitin on...</td>\n",
       "      <td>دڵتەنگ</td>\n",
       "    </tr>\n",
       "    <tr>\n",
       "      <th>2</th>\n",
       "      <td>1956967696</td>\n",
       "      <td>sadness</td>\n",
       "      <td>coolfunky</td>\n",
       "      <td>Funeral ceremony...gloomy friday...</td>\n",
       "      <td>Funeral ceremony...gloomy friday...</td>\n",
       "      <td>دڵتەنگ</td>\n",
       "    </tr>\n",
       "    <tr>\n",
       "      <th>3</th>\n",
       "      <td>1956967789</td>\n",
       "      <td>enthusiasm</td>\n",
       "      <td>czareaquino</td>\n",
       "      <td>wants to hang out with friends SOON!</td>\n",
       "      <td>wants to hang out with friends SOON!</td>\n",
       "      <td>پەرۆش</td>\n",
       "    </tr>\n",
       "    <tr>\n",
       "      <th>4</th>\n",
       "      <td>1956968416</td>\n",
       "      <td>neutral</td>\n",
       "      <td>xkilljoyx</td>\n",
       "      <td>@dannycastillo We want to trade with someone w...</td>\n",
       "      <td>We want to trade with someone who has Houston ...</td>\n",
       "      <td>ئاسایی</td>\n",
       "    </tr>\n",
       "  </tbody>\n",
       "</table>\n",
       "</div>"
      ],
      "text/plain": [
       "     tweet_id   sentiment       author  \\\n",
       "0  1956967341       empty   xoshayzers   \n",
       "1  1956967666     sadness    wannamama   \n",
       "2  1956967696     sadness    coolfunky   \n",
       "3  1956967789  enthusiasm  czareaquino   \n",
       "4  1956968416     neutral    xkilljoyx   \n",
       "\n",
       "                                             content  \\\n",
       "0  @tiffanylue i know  i was listenin to bad habi...   \n",
       "1  Layin n bed with a headache  ughhhh...waitin o...   \n",
       "2                Funeral ceremony...gloomy friday...   \n",
       "3               wants to hang out with friends SOON!   \n",
       "4  @dannycastillo We want to trade with someone w...   \n",
       "\n",
       "                                              tweets kurdish_sentiments  \n",
       "0  i know i was listenin to bad habit earlier and...              بەتاڵ  \n",
       "1  Layin n bed with a headache ughhhh...waitin on...             دڵتەنگ  \n",
       "2                Funeral ceremony...gloomy friday...             دڵتەنگ  \n",
       "3               wants to hang out with friends SOON!              پەرۆش  \n",
       "4  We want to trade with someone who has Houston ...             ئاسایی  "
      ]
     },
     "execution_count": 44,
     "metadata": {},
     "output_type": "execute_result"
    }
   ],
   "source": [
    "df.head()"
   ]
  },
  {
   "cell_type": "code",
   "execution_count": 2,
   "metadata": {},
   "outputs": [
    {
     "ename": "NameError",
     "evalue": "name 'df' is not defined",
     "output_type": "error",
     "traceback": [
      "\u001b[1;31m---------------------------------------------------------------------------\u001b[0m",
      "\u001b[1;31mNameError\u001b[0m                                 Traceback (most recent call last)",
      "Cell \u001b[1;32mIn[2], line 1\u001b[0m\n\u001b[1;32m----> 1\u001b[0m df\u001b[38;5;241m.\u001b[39mto_csv(\u001b[38;5;124m\"\u001b[39m\u001b[38;5;124m./dataSet/Tweets_Sentiment.csv\u001b[39m\u001b[38;5;124m\"\u001b[39m,index\u001b[38;5;241m=\u001b[39m\u001b[38;5;28;01mFalse\u001b[39;00m)\n",
      "\u001b[1;31mNameError\u001b[0m: name 'df' is not defined"
     ]
    }
   ],
   "source": [
    "df.to_csv(\"./dataSet/Tweets_Sentiment.csv\",index=False)"
   ]
  },
  {
   "cell_type": "markdown",
   "metadata": {},
   "source": [
    "### Translating tweets"
   ]
  },
  {
   "cell_type": "code",
   "execution_count": 2,
   "metadata": {},
   "outputs": [],
   "source": [
    "from mtranslate import translate \n",
    "import pandas as pd\n",
    "from tqdm.notebook import tqdm\n",
    "from concurrent.futures import ThreadPoolExecutor, as_completed\n",
    "import time\n",
    "partial_save_amount = 1000\n",
    "\n",
    "def translate_text(text, to_language='ckb'):\n",
    "    try:\n",
    "        return translate(text, to_language)\n",
    "    except Exception as e:\n",
    "        print(f'Error translating text: {text} with error {e}')\n",
    "        return None\n",
    "\n",
    "def dataset_translator(df):\n",
    "    res = {}\n",
    "    futures = {}\n",
    "    with ThreadPoolExecutor(max_workers=5) as executor: \n",
    "        for i, row in df.iterrows():\n",
    "            future = executor.submit(translate_text, row['tweets'], 'ckb')\n",
    "            futures[future] = row['tweet_id']  # Map future to tweet_id\n",
    "\n",
    "        for future in tqdm(as_completed(futures), total=len(futures)):\n",
    "            result = future.result()\n",
    "            if result is not None:\n",
    "                myid = futures[future]  # Use the mapping to get the correct tweet_id\n",
    "                res[myid] = result\n",
    "\n",
    "            # Check if it's time to save partial results\n",
    "            if len(res) % partial_save_amount == 0:\n",
    "                results = pd.DataFrame.from_dict(res, orient='index')\n",
    "                results = results.reset_index().rename(columns={'index': 'tweet_id', 0: 'kurdish_tweets'})\n",
    "                results = results.merge(df.iloc[:len(res)], on='tweet_id', how='right')\n",
    "                results.to_csv(f\"./dataSet/translated/kurdish_tweets-{len(res)}.csv\", index=False)\n",
    "                print(f'saved at {len(res)}')\n",
    "              \n",
    "\n",
    "    # After all futures are completed, save any remaining translations\n",
    "    if res:\n",
    "        results = pd.DataFrame.from_dict(res, orient='index')\n",
    "        results = results.reset_index().rename(columns={'index': 'tweet_id', 0: 'kurdish_tweets'})\n",
    "        results = results.merge(df, on='tweet_id', how='right')\n",
    "        results.to_csv(f\"./dataSet/translated/kurdish_tweets_final.csv\", index=False)\n",
    "        print(f'Final save at {len(res)}')\n",
    "\n",
    "    return pd.DataFrame.from_dict(res, orient='index')"
   ]
  },
  {
   "cell_type": "code",
   "execution_count": 6,
   "metadata": {},
   "outputs": [],
   "source": [
    "data=pd.read_csv(\"./dataSet/Tweets_Sentiment.csv\")\n"
   ]
  },
  {
   "cell_type": "code",
   "execution_count": 7,
   "metadata": {},
   "outputs": [
    {
     "data": {
      "application/vnd.jupyter.widget-view+json": {
       "model_id": "8f0b765917b74b06b2c777e256ebe533",
       "version_major": 2,
       "version_minor": 0
      },
      "text/plain": [
       "  0%|          | 0/34000 [00:00<?, ?it/s]"
      ]
     },
     "metadata": {},
     "output_type": "display_data"
    },
    {
     "name": "stdout",
     "output_type": "stream",
     "text": [
      "Error translating text: nan with error quote_from_bytes() expected bytes\n",
      "Error translating text: nan with error quote_from_bytes() expected bytes\n",
      "Error translating text: nan with error quote_from_bytes() expected bytes\n",
      "saved at 1000\n",
      "Error translating text: nan with error quote_from_bytes() expected bytes\n",
      "Error translating text: nan with error quote_from_bytes() expected bytes\n",
      "saved at 2000\n",
      "Error translating text: nan with error quote_from_bytes() expected bytes\n",
      "Error translating text: nan with error quote_from_bytes() expected bytes\n",
      "Error translating text: nan with error quote_from_bytes() expected bytes\n",
      "Error translating text: nan with error quote_from_bytes() expected bytes\n",
      "saved at 3000\n",
      "Error translating text: nan with error quote_from_bytes() expected bytes\n",
      "Error translating text: nan with error quote_from_bytes() expected bytes\n",
      "Error translating text: hey sweetie. Cnt go fri but thnks so much with error HTTP Error 429: Too Many Requests\n",
      "Error translating text: I cannot I have a full day of activities lol with error HTTP Error 429: Too Many Requests\n",
      "Error translating text: i didnt post my new song today i will try and post tomorrow! with error HTTP Error 429: Too Many Requests\n",
      "Error translating text: Loving the sunshine! Wish poor Richie would feel better with error HTTP Error 429: Too Many Requests\n",
      "Error translating text: The video is `private I cant see it with error HTTP Error 429: Too Many Requests\n",
      "Error translating text: yea as an afterthought with error HTTP Error 429: Too Many Requests\n",
      "Error translating text: just got back from the pool, need to ice the knee with error HTTP Error 429: Too Many Requests\n",
      "Error translating text: so fuckin tired. didn't get home till 5:30. work at bjs at 12:15 with error HTTP Error 429: Too Many Requests\n",
      "Error translating text: Psych has to be better than neuro! Or at least in a better part of town? I miss you with error HTTP Error 429: Too Many Requests\n",
      "Error translating text: Tasha's really bad haircut. She's being treated for skin cancer and is shaved from neck to tail. http://twitpic.com/671zy with error HTTP Error 429: Too Many Requests\n",
      "Error translating text: says Goodmorning. http://plurk.com/p/x2bm1 with error HTTP Error 429: Too Many Requests\n",
      "Error translating text: and if i lived in usa i would gotto 2 go to 106 park ma aunty lives in NYC the bronx GRRR with error HTTP Error 429: Too Many Requests\n",
      "Error translating text: heyy watching the simpson with shezza and paula with error HTTP Error 429: Too Many Requests\n",
      "Error translating text: It's not the internal fuse either Poop. Might have to get the spare out of the loft, although that might be a job for 2 people... with error HTTP Error 429: Too Many Requests\n",
      "Error translating text: yay for nice weather, boo for cici not being here this weekend with error HTTP Error 429: Too Many Requests\n",
      "Error translating text: Aaggh!! My blackberry curve took a gash in the screen the day AFTER we get invisible shields in stock. Well it'll be a good advertisement with error HTTP Error 429: Too Many Requests\n",
      "Error translating text: feeling sorry for Ian. He broke up with his gf, i feel reali sad cos he feels down! wish i can give him a huge hug right now with error HTTP Error 429: Too Many Requests\n",
      "Error translating text: was spose to be going to a party tonight but gues what im sick grrrrr. with error HTTP Error 429: Too Many Requests\n",
      "Error translating text: Too traumatic to even discuss and none of yall are here!!! Everyone has left for the weekend. with error HTTP Error 429: Too Many Requests\n",
      "Error translating text: Maybe JD can help you out there I don't know though But I will ask! with error HTTP Error 429: Too Many Requests\n",
      "Error translating text: WAH! Sayang... with error HTTP Error 429: Too Many Requests\n",
      "Error translating text: ????, ?? #sctest ????? ?? ?????, ?????? ??? ??? ????????, ?? ?? ????? ???? . with error HTTP Error 429: Too Many Requests\n",
      "Error translating text: i had a dream that u didn't like me with error HTTP Error 429: Too Many Requests\n",
      "Error translating text: massive beer guardian. Huuuge. Told you already, don't you trust me? with error HTTP Error 429: Too Many Requests\n",
      "Error translating text: I adoreeeee Matt Nathanson!! I am so jealous of you right now. with error HTTP Error 429: Too Many Requests\n",
      "Error translating text: anything to sell an album. poor thing. with error HTTP Error 429: Too Many Requests\n",
      "Error translating text: oh no your poor car's testicles with error HTTP Error 429: Too Many Requests\n",
      "Error translating text: thinks something and okay, goodluck ako. http://plurk.com/p/x2bnl with error HTTP Error 429: Too Many Requests\n",
      "Error translating text: god I need to revise today! I'm so lazy with error HTTP Error 429: Too Many Requests\n",
      "Error translating text: my phne blocks text with error HTTP Error 429: Too Many Requests\n",
      "Error translating text: im sooo sore... my back hurts, my legs are weak, and im dehydrated. i have to go set up my moms furniture... gay!!!! with error HTTP Error 429: Too Many Requests\n",
      "Error translating text: Got to go shopping with wife down to Tesco's. I knew my day was going to well. with error HTTP Error 429: Too Many Requests\n",
      "Error translating text: Stupid idiot who ran a stop sing and almost killed me and my car! with error HTTP Error 429: Too Many Requests\n",
      "Error translating text: Sleeping over my cousin's house for the weekend. Bugzy with error HTTP Error 429: Too Many Requests\n",
      "Error translating text: I am also very tired with error HTTP Error 429: Too Many Requests\n",
      "Error translating text: The $500 I saved on not buying a couch is going towards paying my visit to ER for UTI with error HTTP Error 429: Too Many Requests\n",
      "Error translating text: $4 lonestar pitchers at ? If only I wasn't still recovering from last weekend's bout of irresponsible gluten consumption with error HTTP Error 429: Too Many Requests\n",
      "Error translating text: laptop pooped. new harddrive needed? using DH's old pc now. maybe offline a while damn BSOD!! happened too many times, Safe Mode only now with error HTTP Error 429: Too Many Requests\n",
      "Error translating text: Rose City Sirens were uber cool last night! Wish I could have stayed longer with error HTTP Error 429: Too Many Requests\n",
      "Error translating text: He got those cars before he lost his job. He used to make good money. Now he works at McDonalds because nobody will hire him. with error HTTP Error 429: Too Many Requests\n",
      "Error translating text: stood on my curlers and burnt myself then burnt my hand when i picked them up.. with error HTTP Error 429: Too Many Requests\n",
      "Error translating text: I realised that many people are not interested in doing business on Twitter - they just want to be heard online Nothing more with error HTTP Error 429: Too Many Requests\n",
      "Error translating text: is is listening to Heart Ain't Brain by Chris Brown. http://plurk.com/p/x2bp2 with error HTTP Error 429: Too Many Requests\n",
      "Error translating text: Is wondering what happened to the sun? Damn May grey! with error HTTP Error 429: Too Many Requests\n",
      "Error translating text: Im feeling so nostalgic. Im sad. But happy. I don't now how to feel. It's over, but not at the same time. It just feels over. i love you. with error HTTP Error 429: Too Many Requests\n",
      "Error translating text: its sprinkling outside i hope it doesn't rain during our game .. with error HTTP Error 429: Too Many Requests\n",
      "Error translating text: no such luck and u aren't coming to Detroit Luckily, I'll be seeing u and the crew in Chicago with error HTTP Error 429: Too Many Requests\n",
      "Error translating text: is doing nothing lol with error HTTP Error 429: Too Many Requests\n",
      "Error translating text: I'm on it, probably not until next week though with error HTTP Error 429: Too Many Requests\n",
      "Error translating text: fuming over ebay purchase gone bad. outta $45 and have nothing to show for it %$&amp;! with error HTTP Error 429: Too Many Requests\n",
      "Error translating text: Can you guys adopt me? Yall are always doing fun stuff. Y'all take trips to Miami... we go to Arkansas with error HTTP Error 429: Too Many Requests\n",
      "Error translating text: I wish the sun would shine. but it won't with error HTTP Error 429: Too Many Requests\n",
      "Error translating text: i miss my earrings lol you should let me know when your close by with error HTTP Error 429: Too Many Requests\n",
      "Error translating text: Very. I'm ill and attempting to remember lots, and nothing is going in. with error HTTP Error 429: Too Many Requests\n",
      "Error translating text: Cried my eyes out watching My Girl last period hahah with error HTTP Error 429: Too Many Requests\n",
      "Error translating text: I just signed up for Japanese 123 at Clark College... it will be a night class with Kamei-sensei... only two days a week KUSO! with error HTTP Error 429: Too Many Requests\n",
      "Error translating text: is leavin bc of racists *starts cryin* with error HTTP Error 429: Too Many Requests\n",
      "Error translating text: wishes he had realized his wife hadn't held onto the debit card before he took a long walk to get lunch and not after. GRRR! with error HTTP Error 429: Too Many Requests\n",
      "Error translating text: why bother at celebs? eh? cause it's almost like talking to them with error HTTP Error 429: Too Many Requests\n",
      "Error translating text: Ah Not doing cbeebies epg by any chance are you hehe. need pinkyponk crash warnings ;-) Is your journey home long? with error HTTP Error 429: Too Many Requests\n",
      "Error translating text: i'm hungry but can't eat anything right now because my tongue hurts so bad. with error HTTP Error 429: Too Many Requests\n",
      "Error translating text: oh man hope you guys weren't shaken up too bad! with error HTTP Error 429: Too Many Requests\n",
      "Error translating text: how do I gain weight?! I lost 20 pounds and I want it back.. I'm only 108 and I'm 23 yrs old at 5'7. Not healthy. with error HTTP Error 429: Too Many Requests\n",
      "Error translating text: not funny with error HTTP Error 429: Too Many Requests\n",
      "Error translating text: Eurgh.. Revision.. Who invented History? with error HTTP Error 429: Too Many Requests\n",
      "Error translating text: I'll update you. I had to leave him at the vet for tests and xrays. with error HTTP Error 429: Too Many Requests\n",
      "Error translating text: I'm not putting anything with error HTTP Error 429: Too Many Requests\n",
      "Error translating text: They've changed the soap in the men's loo and it doesn't smell of marzipan anymore. I miss the marzipan soap with error HTTP Error 429: Too Many Requests\n",
      "Error translating text: it was only announced in the last few days. Due to cancer I think with error HTTP Error 429: Too Many Requests\n",
      "Error translating text: Hey guys I'm back from work.. It was kinda horrible with error HTTP Error 429: Too Many Requests\n",
      "Error translating text: You know i NEVER wanna hurt you with error HTTP Error 429: Too Many Requests\n",
      "Error translating text: Everyone we have another hater with error HTTP Error 429: Too Many Requests\n",
      "Error translating text: psh... I'm not cool enough to go to their open-houses. with error HTTP Error 429: Too Many Requests\n",
      "Error translating text: I really hate revision with error HTTP Error 429: Too Many Requests\n",
      "Error translating text: oh my. i have to play cluedo. with error HTTP Error 429: Too Many Requests\n",
      "Error translating text: doesnt know how to pimp out here Twitter page. with error HTTP Error 429: Too Many Requests\n",
      "Error translating text: aww my friend just called and said that she got a better job so she won't be working with me anymore with error HTTP Error 429: Too Many Requests\n",
      "Error translating text: btw, your shirts are shipping out! I ran out of stock on the one size you ordered for the &quot;I AM FAMOUS&quot; sorry with error HTTP Error 429: Too Many Requests\n",
      "Error translating text: Leaving SF soon. I just might cry. with error HTTP Error 429: Too Many Requests\n",
      "Error translating text: I smell cake but I don't see any cake on the oven! with error HTTP Error 429: Too Many Requests\n",
      "Error translating text: Daisy just got attacked by another doggie in the park with error HTTP Error 429: Too Many Requests\n",
      "Error translating text: Webcams Hoepfner Burgfest in #Karlsruhe: Automatic reload #fail http://bit.ly/Vdtvf with error HTTP Error 429: Too Many Requests\n",
      "Error translating text: man, 4 months until we get to see what those drunk tweets were all about with error HTTP Error 429: Too Many Requests\n",
      "Error translating text: Better do some physics revision x with error HTTP Error 429: Too Many Requests\n",
      "Error translating text: Okay, so now I want to scream....Idk why this one doc has done this to me 3 days this week!!!!RRRRR. with error HTTP Error 429: Too Many Requests\n",
      "Error translating text: thank u!! I know I'll miss u too Ill take pics as soon as I get there I need your email txt it to me or something with error HTTP Error 429: Too Many Requests\n",
      "Error translating text: Hairspray in hair + lighter&amp;bong = new haircut with error HTTP Error 429: Too Many Requests\n",
      "Error translating text: I need a restful weekend, but I will have to work instead with error HTTP Error 429: Too Many Requests\n",
      "Error translating text: im well exited for this weekend, partaaaay! although i dont want to go back to school on Tuesday with error HTTP Error 429: Too Many Requests\n",
      "Error translating text: Working on this DAMN Financial project, Definitely not having any fun this weekend , I want to spend it wit my BAAABY waaaah with error HTTP Error 429: Too Many Requests\n",
      "Error translating text: that happened to me so often, i hated it. every time i moved to a username that i thought i'd love, i moved soon after. with error HTTP Error 429: Too Many Requests\n",
      "Error translating text: Okay. So Rose told me your phone was shut off and you might be moving back to Spokane? What is going on? with error HTTP Error 429: Too Many Requests\n",
      "Error translating text: Hey ugh im sick and its summar ! with error HTTP Error 429: Too Many Requests\n",
      "Error translating text: On a 10min brake. At wrrkk ... its 11:06 and its over at. 11:16 with error HTTP Error 429: Too Many Requests\n",
      "Error translating text: yep but I'm going better now with error HTTP Error 429: Too Many Requests\n",
      "Error translating text: tour got canceled with error HTTP Error 429: Too Many Requests\n",
      "Error translating text: im so jealous. i want an octo drive with error HTTP Error 429: Too Many Requests\n",
      "Error translating text: Yaaaaay Friday.... Oh wait.... I'm working TOMORROW with error HTTP Error 429: Too Many Requests\n",
      "Error translating text: Is at work ohwell need money so : D with error HTTP Error 429: Too Many Requests\n",
      "Error translating text: although you wear sunglasses i can see how uncomfortable you felt. poor sam. with error HTTP Error 429: Too Many Requests\n",
      "Error translating text: damn lol....where u headed to? with error HTTP Error 429: Too Many Requests\n",
      "Error translating text: Leo Carillo Beach and WIll Rogers State Park are on the list of State Parks that might close http://tinyurl.com/lhq8gs with error HTTP Error 429: Too Many Requests\n",
      "Error translating text: No, rather we're OMG it's nearly Monday with error HTTP Error 429: Too Many Requests\n",
      "Error translating text: Just spent more than 45 minutes looking at the Aud with error HTTP Error 429: Too Many Requests\n",
      "Error translating text: is all mine #twpp #shadez with error HTTP Error 429: Too Many Requests\n",
      "Error translating text: i see 5 faces in that thing. but no more xx with error HTTP Error 429: Too Many Requests\n",
      "Error translating text: You mustv'e read my mind. I WAS going, but now it's thunderstorming AND I have to pick up the boys from the bus stop with error HTTP Error 429: Too Many Requests\n",
      "Error translating text: he's retiring from the tonight show im so bummed. he was awesome ha. AND CONGRATS MY DEAR with error HTTP Error 429: Too Many Requests\n",
      "Error translating text: Anddd justin. Eff with error HTTP Error 429: Too Many Requests\n",
      "Error translating text: must... stop... using... LOL, so much... crap I did it again with error HTTP Error 429: Too Many Requests\n",
      "Error translating text: xbox broke hope you enjoy playing 1 vs. 100. I was...looking forward to that. with error HTTP Error 429: Too Many Requests\n",
      "Error translating text: ough out of the shower and my toes feel horrible in my socks i think they are still a bit wet with error HTTP Error 429: Too Many Requests\n",
      "Error translating text: did u try taco n mac n cheese pizza???? I'm so cravin it right now BUT all the good food makes me sick with error HTTP Error 429: Too Many Requests\n",
      "Error translating text: i cantttt. my grandparents are here. with error HTTP Error 429: Too Many Requests\n"
     ]
    }
   ],
   "source": [
    "kurdish_dataset = dataset_translator(data.iloc[6000:])"
   ]
  },
  {
   "cell_type": "code",
   "execution_count": 2,
   "metadata": {},
   "outputs": [
    {
     "ename": "HTTPError",
     "evalue": "HTTP Error 429: Too Many Requests",
     "output_type": "error",
     "traceback": [
      "\u001b[1;31m---------------------------------------------------------------------------\u001b[0m",
      "\u001b[1;31mHTTPError\u001b[0m                                 Traceback (most recent call last)",
      "Cell \u001b[1;32mIn[2], line 1\u001b[0m\n\u001b[1;32m----> 1\u001b[0m translate(\u001b[38;5;124m\"\u001b[39m\u001b[38;5;124mI\u001b[39m\u001b[38;5;124m'\u001b[39m\u001b[38;5;124mm pretty sure Isis has a tapeworm\u001b[39m\u001b[38;5;124m\"\u001b[39m,\u001b[38;5;124m'\u001b[39m\u001b[38;5;124mckb\u001b[39m\u001b[38;5;124m'\u001b[39m)\n",
      "File \u001b[1;32mc:\\Users\\hazhy\\anaconda3\\Lib\\site-packages\\mtranslate\\core.py:80\u001b[0m, in \u001b[0;36mtranslate\u001b[1;34m(to_translate, to_language, from_language)\u001b[0m\n\u001b[0;32m     78\u001b[0m     link \u001b[38;5;241m=\u001b[39m base_link \u001b[38;5;241m%\u001b[39m (to_language, from_language, to_translate)\n\u001b[0;32m     79\u001b[0m     request \u001b[38;5;241m=\u001b[39m urllib\u001b[38;5;241m.\u001b[39mrequest\u001b[38;5;241m.\u001b[39mRequest(link, headers\u001b[38;5;241m=\u001b[39magent)\n\u001b[1;32m---> 80\u001b[0m     raw_data \u001b[38;5;241m=\u001b[39m urllib\u001b[38;5;241m.\u001b[39mrequest\u001b[38;5;241m.\u001b[39murlopen(request)\u001b[38;5;241m.\u001b[39mread()\n\u001b[0;32m     81\u001b[0m data \u001b[38;5;241m=\u001b[39m raw_data\u001b[38;5;241m.\u001b[39mdecode(\u001b[38;5;124m\"\u001b[39m\u001b[38;5;124mutf-8\u001b[39m\u001b[38;5;124m\"\u001b[39m)\n\u001b[0;32m     82\u001b[0m expr \u001b[38;5;241m=\u001b[39m \u001b[38;5;124mr\u001b[39m\u001b[38;5;124m'\u001b[39m\u001b[38;5;124m(?s)class=\u001b[39m\u001b[38;5;124m\"\u001b[39m\u001b[38;5;124m(?:t0|result-container)\u001b[39m\u001b[38;5;124m\"\u001b[39m\u001b[38;5;124m>(.*?)<\u001b[39m\u001b[38;5;124m'\u001b[39m\n",
      "File \u001b[1;32mc:\\Users\\hazhy\\anaconda3\\Lib\\urllib\\request.py:216\u001b[0m, in \u001b[0;36murlopen\u001b[1;34m(url, data, timeout, cafile, capath, cadefault, context)\u001b[0m\n\u001b[0;32m    214\u001b[0m \u001b[38;5;28;01melse\u001b[39;00m:\n\u001b[0;32m    215\u001b[0m     opener \u001b[38;5;241m=\u001b[39m _opener\n\u001b[1;32m--> 216\u001b[0m \u001b[38;5;28;01mreturn\u001b[39;00m opener\u001b[38;5;241m.\u001b[39mopen(url, data, timeout)\n",
      "File \u001b[1;32mc:\\Users\\hazhy\\anaconda3\\Lib\\urllib\\request.py:525\u001b[0m, in \u001b[0;36mOpenerDirector.open\u001b[1;34m(self, fullurl, data, timeout)\u001b[0m\n\u001b[0;32m    523\u001b[0m \u001b[38;5;28;01mfor\u001b[39;00m processor \u001b[38;5;129;01min\u001b[39;00m \u001b[38;5;28mself\u001b[39m\u001b[38;5;241m.\u001b[39mprocess_response\u001b[38;5;241m.\u001b[39mget(protocol, []):\n\u001b[0;32m    524\u001b[0m     meth \u001b[38;5;241m=\u001b[39m \u001b[38;5;28mgetattr\u001b[39m(processor, meth_name)\n\u001b[1;32m--> 525\u001b[0m     response \u001b[38;5;241m=\u001b[39m meth(req, response)\n\u001b[0;32m    527\u001b[0m \u001b[38;5;28;01mreturn\u001b[39;00m response\n",
      "File \u001b[1;32mc:\\Users\\hazhy\\anaconda3\\Lib\\urllib\\request.py:634\u001b[0m, in \u001b[0;36mHTTPErrorProcessor.http_response\u001b[1;34m(self, request, response)\u001b[0m\n\u001b[0;32m    631\u001b[0m \u001b[38;5;66;03m# According to RFC 2616, \"2xx\" code indicates that the client's\u001b[39;00m\n\u001b[0;32m    632\u001b[0m \u001b[38;5;66;03m# request was successfully received, understood, and accepted.\u001b[39;00m\n\u001b[0;32m    633\u001b[0m \u001b[38;5;28;01mif\u001b[39;00m \u001b[38;5;129;01mnot\u001b[39;00m (\u001b[38;5;241m200\u001b[39m \u001b[38;5;241m<\u001b[39m\u001b[38;5;241m=\u001b[39m code \u001b[38;5;241m<\u001b[39m \u001b[38;5;241m300\u001b[39m):\n\u001b[1;32m--> 634\u001b[0m     response \u001b[38;5;241m=\u001b[39m \u001b[38;5;28mself\u001b[39m\u001b[38;5;241m.\u001b[39mparent\u001b[38;5;241m.\u001b[39merror(\n\u001b[0;32m    635\u001b[0m         \u001b[38;5;124m'\u001b[39m\u001b[38;5;124mhttp\u001b[39m\u001b[38;5;124m'\u001b[39m, request, response, code, msg, hdrs)\n\u001b[0;32m    637\u001b[0m \u001b[38;5;28;01mreturn\u001b[39;00m response\n",
      "File \u001b[1;32mc:\\Users\\hazhy\\anaconda3\\Lib\\urllib\\request.py:557\u001b[0m, in \u001b[0;36mOpenerDirector.error\u001b[1;34m(self, proto, *args)\u001b[0m\n\u001b[0;32m    555\u001b[0m     http_err \u001b[38;5;241m=\u001b[39m \u001b[38;5;241m0\u001b[39m\n\u001b[0;32m    556\u001b[0m args \u001b[38;5;241m=\u001b[39m (\u001b[38;5;28mdict\u001b[39m, proto, meth_name) \u001b[38;5;241m+\u001b[39m args\n\u001b[1;32m--> 557\u001b[0m result \u001b[38;5;241m=\u001b[39m \u001b[38;5;28mself\u001b[39m\u001b[38;5;241m.\u001b[39m_call_chain(\u001b[38;5;241m*\u001b[39margs)\n\u001b[0;32m    558\u001b[0m \u001b[38;5;28;01mif\u001b[39;00m result:\n\u001b[0;32m    559\u001b[0m     \u001b[38;5;28;01mreturn\u001b[39;00m result\n",
      "File \u001b[1;32mc:\\Users\\hazhy\\anaconda3\\Lib\\urllib\\request.py:496\u001b[0m, in \u001b[0;36mOpenerDirector._call_chain\u001b[1;34m(self, chain, kind, meth_name, *args)\u001b[0m\n\u001b[0;32m    494\u001b[0m \u001b[38;5;28;01mfor\u001b[39;00m handler \u001b[38;5;129;01min\u001b[39;00m handlers:\n\u001b[0;32m    495\u001b[0m     func \u001b[38;5;241m=\u001b[39m \u001b[38;5;28mgetattr\u001b[39m(handler, meth_name)\n\u001b[1;32m--> 496\u001b[0m     result \u001b[38;5;241m=\u001b[39m func(\u001b[38;5;241m*\u001b[39margs)\n\u001b[0;32m    497\u001b[0m     \u001b[38;5;28;01mif\u001b[39;00m result \u001b[38;5;129;01mis\u001b[39;00m \u001b[38;5;129;01mnot\u001b[39;00m \u001b[38;5;28;01mNone\u001b[39;00m:\n\u001b[0;32m    498\u001b[0m         \u001b[38;5;28;01mreturn\u001b[39;00m result\n",
      "File \u001b[1;32mc:\\Users\\hazhy\\anaconda3\\Lib\\urllib\\request.py:749\u001b[0m, in \u001b[0;36mHTTPRedirectHandler.http_error_302\u001b[1;34m(self, req, fp, code, msg, headers)\u001b[0m\n\u001b[0;32m    746\u001b[0m fp\u001b[38;5;241m.\u001b[39mread()\n\u001b[0;32m    747\u001b[0m fp\u001b[38;5;241m.\u001b[39mclose()\n\u001b[1;32m--> 749\u001b[0m \u001b[38;5;28;01mreturn\u001b[39;00m \u001b[38;5;28mself\u001b[39m\u001b[38;5;241m.\u001b[39mparent\u001b[38;5;241m.\u001b[39mopen(new, timeout\u001b[38;5;241m=\u001b[39mreq\u001b[38;5;241m.\u001b[39mtimeout)\n",
      "File \u001b[1;32mc:\\Users\\hazhy\\anaconda3\\Lib\\urllib\\request.py:525\u001b[0m, in \u001b[0;36mOpenerDirector.open\u001b[1;34m(self, fullurl, data, timeout)\u001b[0m\n\u001b[0;32m    523\u001b[0m \u001b[38;5;28;01mfor\u001b[39;00m processor \u001b[38;5;129;01min\u001b[39;00m \u001b[38;5;28mself\u001b[39m\u001b[38;5;241m.\u001b[39mprocess_response\u001b[38;5;241m.\u001b[39mget(protocol, []):\n\u001b[0;32m    524\u001b[0m     meth \u001b[38;5;241m=\u001b[39m \u001b[38;5;28mgetattr\u001b[39m(processor, meth_name)\n\u001b[1;32m--> 525\u001b[0m     response \u001b[38;5;241m=\u001b[39m meth(req, response)\n\u001b[0;32m    527\u001b[0m \u001b[38;5;28;01mreturn\u001b[39;00m response\n",
      "File \u001b[1;32mc:\\Users\\hazhy\\anaconda3\\Lib\\urllib\\request.py:634\u001b[0m, in \u001b[0;36mHTTPErrorProcessor.http_response\u001b[1;34m(self, request, response)\u001b[0m\n\u001b[0;32m    631\u001b[0m \u001b[38;5;66;03m# According to RFC 2616, \"2xx\" code indicates that the client's\u001b[39;00m\n\u001b[0;32m    632\u001b[0m \u001b[38;5;66;03m# request was successfully received, understood, and accepted.\u001b[39;00m\n\u001b[0;32m    633\u001b[0m \u001b[38;5;28;01mif\u001b[39;00m \u001b[38;5;129;01mnot\u001b[39;00m (\u001b[38;5;241m200\u001b[39m \u001b[38;5;241m<\u001b[39m\u001b[38;5;241m=\u001b[39m code \u001b[38;5;241m<\u001b[39m \u001b[38;5;241m300\u001b[39m):\n\u001b[1;32m--> 634\u001b[0m     response \u001b[38;5;241m=\u001b[39m \u001b[38;5;28mself\u001b[39m\u001b[38;5;241m.\u001b[39mparent\u001b[38;5;241m.\u001b[39merror(\n\u001b[0;32m    635\u001b[0m         \u001b[38;5;124m'\u001b[39m\u001b[38;5;124mhttp\u001b[39m\u001b[38;5;124m'\u001b[39m, request, response, code, msg, hdrs)\n\u001b[0;32m    637\u001b[0m \u001b[38;5;28;01mreturn\u001b[39;00m response\n",
      "File \u001b[1;32mc:\\Users\\hazhy\\anaconda3\\Lib\\urllib\\request.py:563\u001b[0m, in \u001b[0;36mOpenerDirector.error\u001b[1;34m(self, proto, *args)\u001b[0m\n\u001b[0;32m    561\u001b[0m \u001b[38;5;28;01mif\u001b[39;00m http_err:\n\u001b[0;32m    562\u001b[0m     args \u001b[38;5;241m=\u001b[39m (\u001b[38;5;28mdict\u001b[39m, \u001b[38;5;124m'\u001b[39m\u001b[38;5;124mdefault\u001b[39m\u001b[38;5;124m'\u001b[39m, \u001b[38;5;124m'\u001b[39m\u001b[38;5;124mhttp_error_default\u001b[39m\u001b[38;5;124m'\u001b[39m) \u001b[38;5;241m+\u001b[39m orig_args\n\u001b[1;32m--> 563\u001b[0m     \u001b[38;5;28;01mreturn\u001b[39;00m \u001b[38;5;28mself\u001b[39m\u001b[38;5;241m.\u001b[39m_call_chain(\u001b[38;5;241m*\u001b[39margs)\n",
      "File \u001b[1;32mc:\\Users\\hazhy\\anaconda3\\Lib\\urllib\\request.py:496\u001b[0m, in \u001b[0;36mOpenerDirector._call_chain\u001b[1;34m(self, chain, kind, meth_name, *args)\u001b[0m\n\u001b[0;32m    494\u001b[0m \u001b[38;5;28;01mfor\u001b[39;00m handler \u001b[38;5;129;01min\u001b[39;00m handlers:\n\u001b[0;32m    495\u001b[0m     func \u001b[38;5;241m=\u001b[39m \u001b[38;5;28mgetattr\u001b[39m(handler, meth_name)\n\u001b[1;32m--> 496\u001b[0m     result \u001b[38;5;241m=\u001b[39m func(\u001b[38;5;241m*\u001b[39margs)\n\u001b[0;32m    497\u001b[0m     \u001b[38;5;28;01mif\u001b[39;00m result \u001b[38;5;129;01mis\u001b[39;00m \u001b[38;5;129;01mnot\u001b[39;00m \u001b[38;5;28;01mNone\u001b[39;00m:\n\u001b[0;32m    498\u001b[0m         \u001b[38;5;28;01mreturn\u001b[39;00m result\n",
      "File \u001b[1;32mc:\\Users\\hazhy\\anaconda3\\Lib\\urllib\\request.py:643\u001b[0m, in \u001b[0;36mHTTPDefaultErrorHandler.http_error_default\u001b[1;34m(self, req, fp, code, msg, hdrs)\u001b[0m\n\u001b[0;32m    642\u001b[0m \u001b[38;5;28;01mdef\u001b[39;00m \u001b[38;5;21mhttp_error_default\u001b[39m(\u001b[38;5;28mself\u001b[39m, req, fp, code, msg, hdrs):\n\u001b[1;32m--> 643\u001b[0m     \u001b[38;5;28;01mraise\u001b[39;00m HTTPError(req\u001b[38;5;241m.\u001b[39mfull_url, code, msg, hdrs, fp)\n",
      "\u001b[1;31mHTTPError\u001b[0m: HTTP Error 429: Too Many Requests"
     ]
    }
   ],
   "source": [
    "translate(\"I'm pretty sure Isis has a tapeworm\",'ckb')"
   ]
  },
  {
   "cell_type": "code",
   "execution_count": 4,
   "metadata": {},
   "outputs": [
    {
     "data": {
      "text/html": [
       "<div>\n",
       "<style scoped>\n",
       "    .dataframe tbody tr th:only-of-type {\n",
       "        vertical-align: middle;\n",
       "    }\n",
       "\n",
       "    .dataframe tbody tr th {\n",
       "        vertical-align: top;\n",
       "    }\n",
       "\n",
       "    .dataframe thead th {\n",
       "        text-align: right;\n",
       "    }\n",
       "</style>\n",
       "<table border=\"1\" class=\"dataframe\">\n",
       "  <thead>\n",
       "    <tr style=\"text-align: right;\">\n",
       "      <th></th>\n",
       "      <th>tweet_id</th>\n",
       "      <th>sentiment</th>\n",
       "      <th>author</th>\n",
       "      <th>content</th>\n",
       "      <th>tweets</th>\n",
       "      <th>kurdish_sentiments</th>\n",
       "    </tr>\n",
       "  </thead>\n",
       "  <tbody>\n",
       "    <tr>\n",
       "      <th>3000</th>\n",
       "      <td>1957674180</td>\n",
       "      <td>worry</td>\n",
       "      <td>blue_cat_online</td>\n",
       "      <td>[BBC] Malaria parasites becoming resistant to ...</td>\n",
       "      <td>[BBC] Malaria parasites becoming resistant to ...</td>\n",
       "      <td>نیگەران</td>\n",
       "    </tr>\n",
       "    <tr>\n",
       "      <th>3001</th>\n",
       "      <td>1957674579</td>\n",
       "      <td>worry</td>\n",
       "      <td>tickvg</td>\n",
       "      <td>Morning all. I appear to have a bit of a sore ...</td>\n",
       "      <td>Morning all. I appear to have a bit of a sore ...</td>\n",
       "      <td>نیگەران</td>\n",
       "    </tr>\n",
       "    <tr>\n",
       "      <th>3002</th>\n",
       "      <td>1957674594</td>\n",
       "      <td>surprise</td>\n",
       "      <td>ashleigh_03</td>\n",
       "      <td>has just booked her appointment to give blood ...</td>\n",
       "      <td>has just booked her appointment to give blood ...</td>\n",
       "      <td>سوپرایز</td>\n",
       "    </tr>\n",
       "    <tr>\n",
       "      <th>3003</th>\n",
       "      <td>1957674693</td>\n",
       "      <td>hate</td>\n",
       "      <td>barbsrad</td>\n",
       "      <td>urgh, my head is banging.</td>\n",
       "      <td>urgh, my head is banging.</td>\n",
       "      <td>ڕق</td>\n",
       "    </tr>\n",
       "    <tr>\n",
       "      <th>3004</th>\n",
       "      <td>1957674793</td>\n",
       "      <td>neutral</td>\n",
       "      <td>lilianerausch</td>\n",
       "      <td>@Donnette i am fine. just having a headache fo...</td>\n",
       "      <td>i am fine. just having a headache for days now</td>\n",
       "      <td>ئاسایی</td>\n",
       "    </tr>\n",
       "    <tr>\n",
       "      <th>...</th>\n",
       "      <td>...</td>\n",
       "      <td>...</td>\n",
       "      <td>...</td>\n",
       "      <td>...</td>\n",
       "      <td>...</td>\n",
       "      <td>...</td>\n",
       "    </tr>\n",
       "    <tr>\n",
       "      <th>39995</th>\n",
       "      <td>1753918954</td>\n",
       "      <td>neutral</td>\n",
       "      <td>showMe_Heaven</td>\n",
       "      <td>@JohnLloydTaylor</td>\n",
       "      <td>NaN</td>\n",
       "      <td>ئاسایی</td>\n",
       "    </tr>\n",
       "    <tr>\n",
       "      <th>39996</th>\n",
       "      <td>1753919001</td>\n",
       "      <td>love</td>\n",
       "      <td>drapeaux</td>\n",
       "      <td>Happy Mothers Day  All my love</td>\n",
       "      <td>Happy Mothers Day All my love</td>\n",
       "      <td>خۆشەویستی</td>\n",
       "    </tr>\n",
       "    <tr>\n",
       "      <th>39997</th>\n",
       "      <td>1753919005</td>\n",
       "      <td>love</td>\n",
       "      <td>JenniRox</td>\n",
       "      <td>Happy Mother's Day to all the mommies out ther...</td>\n",
       "      <td>Happy Mother's Day to all the mommies out ther...</td>\n",
       "      <td>خۆشەویستی</td>\n",
       "    </tr>\n",
       "    <tr>\n",
       "      <th>39998</th>\n",
       "      <td>1753919043</td>\n",
       "      <td>happiness</td>\n",
       "      <td>ipdaman1</td>\n",
       "      <td>@niariley WASSUP BEAUTIFUL!!! FOLLOW ME!!  PEE...</td>\n",
       "      <td>WASSUP BEAUTIFUL!!! FOLLOW ME!! PEEP OUT MY NE...</td>\n",
       "      <td>بەختەوەر</td>\n",
       "    </tr>\n",
       "    <tr>\n",
       "      <th>39999</th>\n",
       "      <td>1753919049</td>\n",
       "      <td>love</td>\n",
       "      <td>Alpharalpha</td>\n",
       "      <td>@mopedronin bullet train from tokyo    the gf ...</td>\n",
       "      <td>bullet train from tokyo the gf and i have been...</td>\n",
       "      <td>خۆشەویستی</td>\n",
       "    </tr>\n",
       "  </tbody>\n",
       "</table>\n",
       "<p>37000 rows × 6 columns</p>\n",
       "</div>"
      ],
      "text/plain": [
       "         tweet_id  sentiment           author  \\\n",
       "3000   1957674180      worry  blue_cat_online   \n",
       "3001   1957674579      worry           tickvg   \n",
       "3002   1957674594   surprise      ashleigh_03   \n",
       "3003   1957674693       hate         barbsrad   \n",
       "3004   1957674793    neutral    lilianerausch   \n",
       "...           ...        ...              ...   \n",
       "39995  1753918954    neutral    showMe_Heaven   \n",
       "39996  1753919001       love         drapeaux   \n",
       "39997  1753919005       love         JenniRox   \n",
       "39998  1753919043  happiness         ipdaman1   \n",
       "39999  1753919049       love      Alpharalpha   \n",
       "\n",
       "                                                 content  \\\n",
       "3000   [BBC] Malaria parasites becoming resistant to ...   \n",
       "3001   Morning all. I appear to have a bit of a sore ...   \n",
       "3002   has just booked her appointment to give blood ...   \n",
       "3003                           urgh, my head is banging.   \n",
       "3004   @Donnette i am fine. just having a headache fo...   \n",
       "...                                                  ...   \n",
       "39995                                   @JohnLloydTaylor   \n",
       "39996                     Happy Mothers Day  All my love   \n",
       "39997  Happy Mother's Day to all the mommies out ther...   \n",
       "39998  @niariley WASSUP BEAUTIFUL!!! FOLLOW ME!!  PEE...   \n",
       "39999  @mopedronin bullet train from tokyo    the gf ...   \n",
       "\n",
       "                                                  tweets kurdish_sentiments  \n",
       "3000   [BBC] Malaria parasites becoming resistant to ...            نیگەران  \n",
       "3001   Morning all. I appear to have a bit of a sore ...            نیگەران  \n",
       "3002   has just booked her appointment to give blood ...            سوپرایز  \n",
       "3003                           urgh, my head is banging.                 ڕق  \n",
       "3004      i am fine. just having a headache for days now             ئاسایی  \n",
       "...                                                  ...                ...  \n",
       "39995                                                NaN             ئاسایی  \n",
       "39996                      Happy Mothers Day All my love          خۆشەویستی  \n",
       "39997  Happy Mother's Day to all the mommies out ther...          خۆشەویستی  \n",
       "39998  WASSUP BEAUTIFUL!!! FOLLOW ME!! PEEP OUT MY NE...           بەختەوەر  \n",
       "39999  bullet train from tokyo the gf and i have been...          خۆشەویستی  \n",
       "\n",
       "[37000 rows x 6 columns]"
      ]
     },
     "execution_count": 4,
     "metadata": {},
     "output_type": "execute_result"
    }
   ],
   "source": []
  },
  {
   "cell_type": "code",
   "execution_count": 4,
   "metadata": {},
   "outputs": [],
   "source": [
    "def csv_concat(df1,df2,save_path=\"./dataSet/translated/kurdish_tweets-9000-concat.csv\"):\n",
    "    data_frame1=pd.read_csv(df1)\n",
    "    data_frame2=pd.read_csv(df2)\n",
    "    combined=pd.concat([data_frame1,data_frame2])\n",
    "    combined.to_csv(save_path,index=False)\n",
    "\n",
    "\n",
    "csv_concat(\"./dataSet/translated/kurdish_tweets-6000-concat.csv\",\"./dataSet/translated/kurdish_tweets-9000-saved.csv\")\n"
   ]
  },
  {
   "cell_type": "code",
   "execution_count": 5,
   "metadata": {},
   "outputs": [],
   "source": [
    "dc=pd.read_csv(\"./dataSet/translated/kurdish_tweets-9000-concat.csv\")"
   ]
  },
  {
   "cell_type": "code",
   "execution_count": 6,
   "metadata": {},
   "outputs": [
    {
     "data": {
      "text/plain": [
       "(9000, 7)"
      ]
     },
     "execution_count": 6,
     "metadata": {},
     "output_type": "execute_result"
    }
   ],
   "source": [
    "dc.shape"
   ]
  },
  {
   "cell_type": "code",
   "execution_count": null,
   "metadata": {},
   "outputs": [],
   "source": []
  }
 ],
 "metadata": {
  "kernelspec": {
   "display_name": "tensorflow",
   "language": "python",
   "name": "python3"
  },
  "language_info": {
   "codemirror_mode": {
    "name": "ipython",
    "version": 3
   },
   "file_extension": ".py",
   "mimetype": "text/x-python",
   "name": "python",
   "nbconvert_exporter": "python",
   "pygments_lexer": "ipython3",
   "version": "3.11.7"
  }
 },
 "nbformat": 4,
 "nbformat_minor": 2
}
